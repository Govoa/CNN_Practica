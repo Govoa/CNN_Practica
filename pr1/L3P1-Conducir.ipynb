{
 "cells": [
  {
   "cell_type": "markdown",
   "metadata": {},
   "source": [
    "# Práctica 1"
   ]
  },
  {
   "cell_type": "markdown",
   "metadata": {},
   "source": [
    "## Preparación del entorno"
   ]
  },
  {
   "cell_type": "code",
   "execution_count": 70,
   "metadata": {},
   "outputs": [],
   "source": [
    "import numpy as np\n",
    "import keras as ker\n",
    "import matplotlib.pyplot as plt \n",
    "import pandas as pd\n",
    "import sklearn as sk\n",
    "import PIL\n",
    "import os\n",
    "\n",
    "from PIL import Image\n",
    "from IPython.display import clear_output # Limpiar output\n",
    "from sklearn.model_selection import train_test_split \n",
    "from sklearn.preprocessing import LabelEncoder\n",
    "from numpy import asarray"
   ]
  },
  {
   "cell_type": "markdown",
   "metadata": {},
   "source": [
    "# SETUP"
   ]
  },
  {
   "cell_type": "markdown",
   "metadata": {},
   "source": [
    "## Procesamiento de datos"
   ]
  },
  {
   "cell_type": "code",
   "execution_count": 71,
   "metadata": {},
   "outputs": [
    {
     "name": "stdout",
     "output_type": "stream",
     "text": [
      "Leyendo imágenes de la carpeta  c9\r"
     ]
    }
   ],
   "source": [
    "\"\"\"\n",
    "    Primer paso es convertir las imagenes en un array y etiquetarlas.\n",
    "    Primero de todo, en el siguiente bucle recorreremos todos los ficheros de entrenamiento, convirtiendo cada imagen en una matriz (normalizada / 255)\n",
    "    Una vez la tenemos normalizada, la añadimos al conjunto de entrenamiento\n",
    "    Como cada imagen esta ya en una carpeta según su clase, guardamos de que carpeta pertenece la imagen y así la etiquetamos en las salidas esperadas\n",
    "\"\"\"\n",
    "entradas_entrenamiento = []\n",
    "salidas_entrenamiento = []\n",
    "with os.scandir('../Dataset/imgs/train') as ficheros: # Iteramos todo el conjunto de entrenamiento\n",
    "    for fichero in ficheros:\n",
    "        path = os.path.join(fichero)\n",
    "        tipo_clase = path.split(\"/\")\n",
    "        clase_img = tipo_clase[4]\n",
    "        print(\"Leyendo imágenes de la carpeta \",clase_img,end=\"\\r\")\n",
    "        with os.scandir(path) as imagenes:\n",
    "            for imagen in imagenes:\n",
    "                img_ruta = os.path.join(imagen)\n",
    "                img = Image.open(img_ruta)\n",
    "                img_pixeles = asarray(img) \n",
    "                img_normalizada = img_pixeles / 255 # Normalizamos\n",
    "                entradas_entrenamiento.append(img_normalizada)\n",
    "                salidas_entrenamiento.append(clase_img)\n",
    "print(\"Todas las imágenes del entrenamiento leidas y guardadas\")"
   ]
  }
 ],
 "metadata": {
  "interpreter": {
   "hash": "9ae011bd53887c3dab0246b667a51a9d69f3606ce064e4af6110c47693a17202"
  },
  "kernelspec": {
   "display_name": "Python 3.9.7 ('tensorflow-environment')",
   "language": "python",
   "name": "python3"
  },
  "language_info": {
   "codemirror_mode": {
    "name": "ipython",
    "version": 3
   },
   "file_extension": ".py",
   "mimetype": "text/x-python",
   "name": "python",
   "nbconvert_exporter": "python",
   "pygments_lexer": "ipython3",
   "version": "3.9.7"
  },
  "orig_nbformat": 4
 },
 "nbformat": 4,
 "nbformat_minor": 2
}
