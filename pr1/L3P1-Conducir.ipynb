{
 "cells": [
  {
   "cell_type": "markdown",
   "metadata": {},
   "source": [
    "# Práctica 1"
   ]
  },
  {
   "cell_type": "markdown",
   "metadata": {},
   "source": [
    "## Preparación del entorno"
   ]
  },
  {
   "cell_type": "code",
   "execution_count": 1,
   "metadata": {},
   "outputs": [],
   "source": [
    "import numpy as np\n",
    "import keras as ker\n",
    "import matplotlib.pyplot as plt \n",
    "import pandas as pd\n",
    "import sklearn as sk\n",
    "import PIL\n",
    "import os\n",
    "import random\n",
    "\n",
    "from PIL import Image\n",
    "from IPython.display import clear_output # Limpiar output\n",
    "from sklearn.model_selection import train_test_split \n",
    "from sklearn.preprocessing import LabelEncoder\n",
    "from numpy import asarray"
   ]
  },
  {
   "cell_type": "markdown",
   "metadata": {},
   "source": [
    "# SETUP"
   ]
  },
  {
   "cell_type": "markdown",
   "metadata": {},
   "source": [
    "## Procesamiento de datos"
   ]
  },
  {
   "cell_type": "code",
   "execution_count": 2,
   "metadata": {},
   "outputs": [
    {
     "ename": "KeyboardInterrupt",
     "evalue": "",
     "output_type": "error",
     "traceback": [
      "\u001b[0;31m---------------------------------------------------------------------------\u001b[0m",
      "\u001b[0;31mKeyboardInterrupt\u001b[0m                         Traceback (most recent call last)",
      "\u001b[1;32m/home/gonzalo/Desktop/IAII/PRACTICA3/pr1/L3P1-Conducir.ipynb Cell 6'\u001b[0m in \u001b[0;36m<cell line: 10>\u001b[0;34m()\u001b[0m\n\u001b[1;32m     <a href='vscode-notebook-cell:/home/gonzalo/Desktop/IAII/PRACTICA3/pr1/L3P1-Conducir.ipynb#ch0000005?line=16'>17</a>\u001b[0m img_nombres \u001b[39m=\u001b[39m img_ruta\u001b[39m.\u001b[39msplit(\u001b[39m\"\u001b[39m\u001b[39m/\u001b[39m\u001b[39m\"\u001b[39m)\n\u001b[1;32m     <a href='vscode-notebook-cell:/home/gonzalo/Desktop/IAII/PRACTICA3/pr1/L3P1-Conducir.ipynb#ch0000005?line=17'>18</a>\u001b[0m \u001b[39m# img_nombre\u001b[39;00m\n\u001b[0;32m---> <a href='vscode-notebook-cell:/home/gonzalo/Desktop/IAII/PRACTICA3/pr1/L3P1-Conducir.ipynb#ch0000005?line=18'>19</a>\u001b[0m img_pixeles \u001b[39m=\u001b[39m asarray(img) \u001b[39m/\u001b[39;49m \u001b[39m255\u001b[39;49m \u001b[39m# Pasamos a array y normalizamos \u001b[39;00m\n\u001b[1;32m     <a href='vscode-notebook-cell:/home/gonzalo/Desktop/IAII/PRACTICA3/pr1/L3P1-Conducir.ipynb#ch0000005?line=19'>20</a>\u001b[0m entradas_entrenamiento\u001b[39m.\u001b[39mappend(img_pixeles)\n\u001b[1;32m     <a href='vscode-notebook-cell:/home/gonzalo/Desktop/IAII/PRACTICA3/pr1/L3P1-Conducir.ipynb#ch0000005?line=20'>21</a>\u001b[0m salidas_entrenamiento\u001b[39m.\u001b[39mappend(img_nombres)\n",
      "\u001b[0;31mKeyboardInterrupt\u001b[0m: "
     ]
    }
   ],
   "source": [
    "\"\"\"\n",
    "    Primer paso es convertir las imagenes en un array y etiquetarlas.\n",
    "    Primero de todo, en el siguiente bucle recorreremos todos los ficheros de entrenamiento, convirtiendo cada imagen en una matriz (normalizada / 255)\n",
    "    Una vez la tenemos normalizada, la añadimos al conjunto de entrenamiento\n",
    "    Como cada imagen esta ya en una carpeta según su clase, guardamos de que carpeta pertenece la imagen y así la etiquetamos en las salidas esperadas\n",
    "\"\"\"\n",
    "\n",
    "entradas_entrenamiento = []\n",
    "salidas_entrenamiento = []\n",
    "with os.scandir('../Dataset/imgs/train') as ficheros: # Iteramos todo el conjunto de entrenamiento\n",
    "    for fichero in ficheros:\n",
    "        path = os.path.join(fichero)\n",
    "        tipo_clase = path.split(\"/\")\n",
    "        clase_img = tipo_clase[4]\n",
    "        print(\"Leyendo imágenes de la carpeta \",clase_img,end=\"\\r\")\n",
    "        with os.scandir(path) as imagenes:\n",
    "            for imagen in imagenes:\n",
    "                img_ruta = os.path.join(imagen)\n",
    "                img = Image.open(img_ruta)\n",
    "                img_pixeles = asarray(img) \n",
    "                img_normalizada = img_pixeles / 255 # Normalizamos\n",
    "                entradas_entrenamiento.append(img_normalizada)\n",
    "                salidas_entrenamiento.append(clase_img)\n",
    "print(\"Todas las imágenes del entrenamiento leidas y guardadas\")\n",
    "\n",
    "# Ahora hacemos shuffle y dividimos en entreno y validacion\n",
    "\n",
    "# Shuffle de ambos a la vez para que las posiciones concuerden con las salidas\n",
    "shuffle = list(zip(entradas_entrenamiento, salidas_entrenamiento))\n",
    "random.shuffle(shuffle)\n",
    "entradas_entrenamiento, salidas_entrenamiento = zip(*shuffle)\n",
    "\n",
    "# División\n",
    "entrenamiento_entradas, validacion_entradas = train_test_split(entradas_entrenamiento, test_size = 0.20, shuffle=False)\n",
    "entrenamiento_salidas, validacion_salidas = train_test_split(salidas_entrenamiento, test_size = 0.20, shuffle=False)"
   ]
  },
  {
   "cell_type": "markdown",
   "metadata": {},
   "source": [
    "## Variables a definir"
   ]
  },
  {
   "cell_type": "code",
   "execution_count": null,
   "metadata": {},
   "outputs": [],
   "source": []
  }
 ],
 "metadata": {
  "interpreter": {
   "hash": "9ae011bd53887c3dab0246b667a51a9d69f3606ce064e4af6110c47693a17202"
  },
  "kernelspec": {
   "display_name": "Python 3.9.7 ('tensorflow-environment')",
   "language": "python",
   "name": "python3"
  },
  "language_info": {
   "codemirror_mode": {
    "name": "ipython",
    "version": 3
   },
   "file_extension": ".py",
   "mimetype": "text/x-python",
   "name": "python",
   "nbconvert_exporter": "python",
   "pygments_lexer": "ipython3",
   "version": "3.9.7"
  },
  "orig_nbformat": 4
 },
 "nbformat": 4,
 "nbformat_minor": 2
}
